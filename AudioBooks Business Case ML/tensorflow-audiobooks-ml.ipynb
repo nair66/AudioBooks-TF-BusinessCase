{
 "cells": [
  {
   "cell_type": "code",
   "execution_count": 1,
   "id": "159c6fe9",
   "metadata": {},
   "outputs": [],
   "source": [
    "import numpy as np\n",
    "import tensorflow as tf"
   ]
  },
  {
   "cell_type": "markdown",
   "id": "e253187a",
   "metadata": {},
   "source": [
    "## Data"
   ]
  },
  {
   "cell_type": "code",
   "execution_count": 6,
   "id": "0695e935",
   "metadata": {},
   "outputs": [],
   "source": [
    "npz = np.load('Audiobooks_data_train.npz')\n",
    "\n",
    "train_inputs,train_targets = npz['inputs'].astype(np.float64) , npz['targets'].astype(np.int64)\n",
    "\n",
    "npz = np.load('Audiobooks_data_validation.npz')\n",
    "\n",
    "validation_inputs,validation_targets = npz['inputs'].astype(np.float64) , npz['targets'].astype(np.int64)\n",
    "\n",
    "npz = np.load('Audiobooks_data_test.npz')\n",
    "\n",
    "test_inputs,test_targets = npz['inputs'].astype(np.float64) , npz['targets'].astype(np.int64)\n"
   ]
  },
  {
   "cell_type": "markdown",
   "id": "d1122790",
   "metadata": {},
   "source": [
    "## Model"
   ]
  },
  {
   "cell_type": "code",
   "execution_count": 19,
   "id": "9817a5e2",
   "metadata": {},
   "outputs": [
    {
     "name": "stdout",
     "output_type": "stream",
     "text": [
      "Epoch 1/100\n",
      "36/36 - 1s - loss: 0.5641 - accuracy: 0.7100 - val_loss: 0.4748 - val_accuracy: 0.7405\n",
      "Epoch 2/100\n",
      "36/36 - 0s - loss: 0.4271 - accuracy: 0.7636 - val_loss: 0.4065 - val_accuracy: 0.7830\n",
      "Epoch 3/100\n",
      "36/36 - 0s - loss: 0.3819 - accuracy: 0.8025 - val_loss: 0.3918 - val_accuracy: 0.7785\n",
      "Epoch 4/100\n",
      "36/36 - 0s - loss: 0.3713 - accuracy: 0.8030 - val_loss: 0.3727 - val_accuracy: 0.7696\n",
      "Epoch 5/100\n",
      "36/36 - 0s - loss: 0.3555 - accuracy: 0.8066 - val_loss: 0.3588 - val_accuracy: 0.8098\n",
      "Epoch 6/100\n",
      "36/36 - 0s - loss: 0.3480 - accuracy: 0.8156 - val_loss: 0.3442 - val_accuracy: 0.8076\n",
      "Epoch 7/100\n",
      "36/36 - 0s - loss: 0.3443 - accuracy: 0.8134 - val_loss: 0.3405 - val_accuracy: 0.8277\n",
      "Epoch 8/100\n",
      "36/36 - 0s - loss: 0.3394 - accuracy: 0.8209 - val_loss: 0.3314 - val_accuracy: 0.8277\n",
      "Epoch 9/100\n",
      "36/36 - 0s - loss: 0.3361 - accuracy: 0.8125 - val_loss: 0.3406 - val_accuracy: 0.8345\n",
      "Epoch 10/100\n",
      "36/36 - 0s - loss: 0.3330 - accuracy: 0.8178 - val_loss: 0.3298 - val_accuracy: 0.8188\n",
      "Epoch 11/100\n",
      "36/36 - 0s - loss: 0.3337 - accuracy: 0.8128 - val_loss: 0.3357 - val_accuracy: 0.8143\n",
      "Epoch 12/100\n",
      "36/36 - 0s - loss: 0.3345 - accuracy: 0.8189 - val_loss: 0.3334 - val_accuracy: 0.8210\n"
     ]
    },
    {
     "data": {
      "text/plain": [
       "<tensorflow.python.keras.callbacks.History at 0x1aacebb3a00>"
      ]
     },
     "execution_count": 19,
     "metadata": {},
     "output_type": "execute_result"
    }
   ],
   "source": [
    "input_size = 10\n",
    "output_size = 2\n",
    "hidden_layer_size = 100\n",
    "\n",
    "model = tf.keras.Sequential([\n",
    "    \n",
    "    tf.keras.layers.Dense(hidden_layer_size,activation='relu'),\n",
    "    tf.keras.layers.Dense(hidden_layer_size,activation='relu'),\n",
    "    tf.keras.layers.Dense(output_size,activation='softmax')\n",
    "])\n",
    "\n",
    "model.compile(optimizer='adam',loss='sparse_categorical_crossentropy',metrics=['accuracy'])\n",
    "\n",
    "batch_size = 100\n",
    "\n",
    "max_epochs = 100\n",
    "\n",
    "early_stopping = tf.keras.callbacks.EarlyStopping(patience=2)\n",
    "\n",
    "model.fit(train_inputs,train_targets,\n",
    "          batch_size=batch_size,\n",
    "          epochs=max_epochs,\n",
    "          callbacks=[early_stopping],\n",
    "          validation_data=(validation_inputs,validation_targets),\n",
    "         verbose=2)"
   ]
  },
  {
   "cell_type": "code",
   "execution_count": 20,
   "id": "f1d053ef",
   "metadata": {},
   "outputs": [
    {
     "name": "stdout",
     "output_type": "stream",
     "text": [
      "14/14 [==============================] - 0s 3ms/step - loss: 0.3363 - accuracy: 0.8304\n"
     ]
    },
    {
     "data": {
      "text/plain": [
       "[0.3362613320350647, 0.8303571343421936]"
      ]
     },
     "execution_count": 20,
     "metadata": {},
     "output_type": "execute_result"
    }
   ],
   "source": [
    "model.evaluate(test_inputs,test_targets)"
   ]
  },
  {
   "cell_type": "code",
   "execution_count": null,
   "id": "7e08551b",
   "metadata": {},
   "outputs": [],
   "source": []
  }
 ],
 "metadata": {
  "kernelspec": {
   "display_name": "Python 3",
   "language": "python",
   "name": "python3"
  },
  "language_info": {
   "codemirror_mode": {
    "name": "ipython",
    "version": 3
   },
   "file_extension": ".py",
   "mimetype": "text/x-python",
   "name": "python",
   "nbconvert_exporter": "python",
   "pygments_lexer": "ipython3",
   "version": "3.8.11"
  }
 },
 "nbformat": 4,
 "nbformat_minor": 5
}
