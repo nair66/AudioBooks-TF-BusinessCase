{
 "cells": [
  {
   "cell_type": "code",
   "execution_count": 2,
   "id": "554e8bfb",
   "metadata": {},
   "outputs": [],
   "source": [
    "import numpy as np\n",
    "from sklearn import preprocessing"
   ]
  },
  {
   "cell_type": "code",
   "execution_count": 3,
   "id": "80024076",
   "metadata": {},
   "outputs": [],
   "source": [
    "raw_csv_data = np.loadtxt('Audiobooks_data.csv',delimiter = ',')\n",
    "\n",
    "#Disregards the ID column and the targets column in the end\n",
    "unscaled_inputs_all = raw_csv_data[:,1:-1]\n",
    "targets_all = raw_csv_data[:,-1]"
   ]
  },
  {
   "cell_type": "markdown",
   "id": "3cf5574b",
   "metadata": {},
   "source": [
    "## Balance the dataset"
   ]
  },
  {
   "cell_type": "code",
   "execution_count": 4,
   "id": "c8c6ee9e",
   "metadata": {},
   "outputs": [],
   "source": [
    "num_one_targets = int(np.sum(targets_all))\n",
    "zero_targets_counter =  0 \n",
    "indices_to_remove = []\n",
    "\n",
    "for i in range(targets_all.shape[0]):\n",
    "    if targets_all[i] == 0:\n",
    "        zero_targets_counter += 1\n",
    "        if zero_targets_counter > num_one_targets:\n",
    "            indices_to_remove.append(i)\n",
    "            \n",
    "unscaled_inputs_equal_priors = np.delete(unscaled_inputs_all,indices_to_remove,axis = 0)\n",
    "targets_equal_priors = np.delete(targets_all,indices_to_remove,axis = 0)\n"
   ]
  },
  {
   "cell_type": "markdown",
   "id": "25c7664d",
   "metadata": {},
   "source": [
    "## Standardize the inputs"
   ]
  },
  {
   "cell_type": "code",
   "execution_count": 5,
   "id": "52d379ce",
   "metadata": {},
   "outputs": [],
   "source": [
    "scaled_inputs = preprocessing.scale(unscaled_inputs_equal_priors)"
   ]
  },
  {
   "cell_type": "markdown",
   "id": "f29651f2",
   "metadata": {},
   "source": [
    "## Shuffle the data"
   ]
  },
  {
   "cell_type": "code",
   "execution_count": 6,
   "id": "f00a0449",
   "metadata": {},
   "outputs": [],
   "source": [
    "shuffled_indices = np.arange(scaled_inputs.shape[0])\n",
    "np.random.shuffle(shuffled_indices)\n",
    "\n",
    "shuffled_inputs = scaled_inputs[shuffled_indices]\n",
    "shuffled_targets = targets_equal_priors[shuffled_indices]"
   ]
  },
  {
   "cell_type": "markdown",
   "id": "23f24b14",
   "metadata": {},
   "source": [
    "## Split the dataset into train, validation, and test"
   ]
  },
  {
   "cell_type": "code",
   "execution_count": 7,
   "id": "bc9fcf0a",
   "metadata": {},
   "outputs": [],
   "source": [
    "samples_tot_count = shuffled_inputs.shape[0]\n",
    "\n",
    "train_samples_count = int(.8 * samples_tot_count)\n",
    "validation_samples_count = int(.1 * samples_tot_count)\n",
    "\n",
    "test_samples_count = int(samples_tot_count - train_samples_count - validation_samples_count)\n",
    "\n",
    "train_inputs = shuffled_inputs[:train_samples_count]\n",
    "train_targets = shuffled_targets[:train_samples_count]\n",
    "\n",
    "validation_inputs = shuffled_inputs[train_samples_count:train_samples_count + validation_samples_count]\n",
    "validation_targets = shuffled_targets[train_samples_count:train_samples_count + validation_samples_count]\n",
    "\n",
    "test_inputs = shuffled_inputs[train_samples_count + validation_samples_count : ]\n",
    "test_targets = shuffled_targets[train_samples_count + validation_samples_count : ]\n"
   ]
  },
  {
   "cell_type": "code",
   "execution_count": 8,
   "id": "14babc39",
   "metadata": {},
   "outputs": [
    {
     "name": "stdout",
     "output_type": "stream",
     "text": [
      "1781.0 3579 0.49762503492595694\n",
      "235.0 447 0.5257270693512305\n",
      "221.0 448 0.49330357142857145\n"
     ]
    }
   ],
   "source": [
    "print(np.sum(train_targets),train_samples_count,np.sum(train_targets) / train_samples_count)\n",
    "print(np.sum(validation_targets),validation_samples_count,np.sum(validation_targets) / validation_samples_count)   \n",
    "print(np.sum(test_targets),test_samples_count,np.sum(test_targets) / test_samples_count)"
   ]
  },
  {
   "cell_type": "code",
   "execution_count": 9,
   "id": "52e3a72f",
   "metadata": {},
   "outputs": [],
   "source": [
    "np.savez('Audiobooks_data_train',inputs=train_inputs,targets=train_targets)\n",
    "np.savez('Audiobooks_data_validation',inputs=validation_inputs,targets=validation_targets)    \n",
    "np.savez('Audiobooks_data_test',inputs=test_inputs,targets=test_targets)"
   ]
  },
  {
   "cell_type": "code",
   "execution_count": null,
   "id": "2142e2a4",
   "metadata": {},
   "outputs": [],
   "source": []
  }
 ],
 "metadata": {
  "kernelspec": {
   "display_name": "Python 3",
   "language": "python",
   "name": "python3"
  },
  "language_info": {
   "codemirror_mode": {
    "name": "ipython",
    "version": 3
   },
   "file_extension": ".py",
   "mimetype": "text/x-python",
   "name": "python",
   "nbconvert_exporter": "python",
   "pygments_lexer": "ipython3",
   "version": "3.8.11"
  }
 },
 "nbformat": 4,
 "nbformat_minor": 5
}
